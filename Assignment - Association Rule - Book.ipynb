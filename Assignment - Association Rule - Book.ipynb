{
 "cells": [
  {
   "cell_type": "code",
   "execution_count": 1,
   "id": "b623d2ab",
   "metadata": {},
   "outputs": [],
   "source": [
    "import pandas as pd\n",
    "import numpy as np\n",
    "\n",
    "import matplotlib.pyplot as plt\n",
    "%matplotlib inline\n",
    "\n",
    "import seaborn as sns\n",
    "sns.set()"
   ]
  },
  {
   "cell_type": "code",
   "execution_count": 2,
   "id": "40fd43f1",
   "metadata": {},
   "outputs": [],
   "source": [
    "# association Lib\n",
    "\n",
    "from mlxtend.frequent_patterns import apriori,association_rules\n",
    "\n",
    "from mlxtend.preprocessing import TransactionEncoder"
   ]
  },
  {
   "cell_type": "code",
   "execution_count": 3,
   "id": "60633974",
   "metadata": {},
   "outputs": [],
   "source": [
    "import warnings\n",
    "warnings.filterwarnings('ignore')"
   ]
  },
  {
   "cell_type": "code",
   "execution_count": null,
   "id": "a224a79f",
   "metadata": {},
   "outputs": [],
   "source": []
  },
  {
   "cell_type": "code",
   "execution_count": 4,
   "id": "391ca85c",
   "metadata": {},
   "outputs": [],
   "source": [
    "book = pd.read_csv('book.csv')"
   ]
  },
  {
   "cell_type": "code",
   "execution_count": 5,
   "id": "b6400529",
   "metadata": {},
   "outputs": [
    {
     "data": {
      "text/html": [
       "<div>\n",
       "<style scoped>\n",
       "    .dataframe tbody tr th:only-of-type {\n",
       "        vertical-align: middle;\n",
       "    }\n",
       "\n",
       "    .dataframe tbody tr th {\n",
       "        vertical-align: top;\n",
       "    }\n",
       "\n",
       "    .dataframe thead th {\n",
       "        text-align: right;\n",
       "    }\n",
       "</style>\n",
       "<table border=\"1\" class=\"dataframe\">\n",
       "  <thead>\n",
       "    <tr style=\"text-align: right;\">\n",
       "      <th></th>\n",
       "      <th>ChildBks</th>\n",
       "      <th>YouthBks</th>\n",
       "      <th>CookBks</th>\n",
       "      <th>DoItYBks</th>\n",
       "      <th>RefBks</th>\n",
       "      <th>ArtBks</th>\n",
       "      <th>GeogBks</th>\n",
       "      <th>ItalCook</th>\n",
       "      <th>ItalAtlas</th>\n",
       "      <th>ItalArt</th>\n",
       "      <th>Florence</th>\n",
       "    </tr>\n",
       "  </thead>\n",
       "  <tbody>\n",
       "    <tr>\n",
       "      <th>0</th>\n",
       "      <td>0</td>\n",
       "      <td>1</td>\n",
       "      <td>0</td>\n",
       "      <td>1</td>\n",
       "      <td>0</td>\n",
       "      <td>0</td>\n",
       "      <td>1</td>\n",
       "      <td>0</td>\n",
       "      <td>0</td>\n",
       "      <td>0</td>\n",
       "      <td>0</td>\n",
       "    </tr>\n",
       "    <tr>\n",
       "      <th>1</th>\n",
       "      <td>1</td>\n",
       "      <td>0</td>\n",
       "      <td>0</td>\n",
       "      <td>0</td>\n",
       "      <td>0</td>\n",
       "      <td>0</td>\n",
       "      <td>0</td>\n",
       "      <td>0</td>\n",
       "      <td>0</td>\n",
       "      <td>0</td>\n",
       "      <td>0</td>\n",
       "    </tr>\n",
       "    <tr>\n",
       "      <th>2</th>\n",
       "      <td>0</td>\n",
       "      <td>0</td>\n",
       "      <td>0</td>\n",
       "      <td>0</td>\n",
       "      <td>0</td>\n",
       "      <td>0</td>\n",
       "      <td>0</td>\n",
       "      <td>0</td>\n",
       "      <td>0</td>\n",
       "      <td>0</td>\n",
       "      <td>0</td>\n",
       "    </tr>\n",
       "    <tr>\n",
       "      <th>3</th>\n",
       "      <td>1</td>\n",
       "      <td>1</td>\n",
       "      <td>1</td>\n",
       "      <td>0</td>\n",
       "      <td>1</td>\n",
       "      <td>0</td>\n",
       "      <td>1</td>\n",
       "      <td>0</td>\n",
       "      <td>0</td>\n",
       "      <td>0</td>\n",
       "      <td>0</td>\n",
       "    </tr>\n",
       "    <tr>\n",
       "      <th>4</th>\n",
       "      <td>0</td>\n",
       "      <td>0</td>\n",
       "      <td>1</td>\n",
       "      <td>0</td>\n",
       "      <td>0</td>\n",
       "      <td>0</td>\n",
       "      <td>1</td>\n",
       "      <td>0</td>\n",
       "      <td>0</td>\n",
       "      <td>0</td>\n",
       "      <td>0</td>\n",
       "    </tr>\n",
       "  </tbody>\n",
       "</table>\n",
       "</div>"
      ],
      "text/plain": [
       "   ChildBks  YouthBks  CookBks  DoItYBks  RefBks  ArtBks  GeogBks  ItalCook  \\\n",
       "0         0         1        0         1       0       0        1         0   \n",
       "1         1         0        0         0       0       0        0         0   \n",
       "2         0         0        0         0       0       0        0         0   \n",
       "3         1         1        1         0       1       0        1         0   \n",
       "4         0         0        1         0       0       0        1         0   \n",
       "\n",
       "   ItalAtlas  ItalArt  Florence  \n",
       "0          0        0         0  \n",
       "1          0        0         0  \n",
       "2          0        0         0  \n",
       "3          0        0         0  \n",
       "4          0        0         0  "
      ]
     },
     "execution_count": 5,
     "metadata": {},
     "output_type": "execute_result"
    }
   ],
   "source": [
    "book.head()"
   ]
  },
  {
   "cell_type": "code",
   "execution_count": 6,
   "id": "b4591798",
   "metadata": {
    "scrolled": true
   },
   "outputs": [
    {
     "name": "stdout",
     "output_type": "stream",
     "text": [
      "ChildBks\n",
      "0    1154\n",
      "1     846\n",
      "Name: ChildBks, dtype: int64\n",
      "\n",
      "YouthBks\n",
      "0    1505\n",
      "1     495\n",
      "Name: YouthBks, dtype: int64\n",
      "\n",
      "CookBks\n",
      "0    1138\n",
      "1     862\n",
      "Name: CookBks, dtype: int64\n",
      "\n",
      "DoItYBks\n",
      "0    1436\n",
      "1     564\n",
      "Name: DoItYBks, dtype: int64\n",
      "\n",
      "RefBks\n",
      "0    1571\n",
      "1     429\n",
      "Name: RefBks, dtype: int64\n",
      "\n",
      "ArtBks\n",
      "0    1518\n",
      "1     482\n",
      "Name: ArtBks, dtype: int64\n",
      "\n",
      "GeogBks\n",
      "0    1448\n",
      "1     552\n",
      "Name: GeogBks, dtype: int64\n",
      "\n",
      "ItalCook\n",
      "0    1773\n",
      "1     227\n",
      "Name: ItalCook, dtype: int64\n",
      "\n",
      "ItalAtlas\n",
      "0    1926\n",
      "1      74\n",
      "Name: ItalAtlas, dtype: int64\n",
      "\n",
      "ItalArt\n",
      "0    1903\n",
      "1      97\n",
      "Name: ItalArt, dtype: int64\n",
      "\n",
      "Florence\n",
      "0    1783\n",
      "1     217\n",
      "Name: Florence, dtype: int64\n",
      "\n"
     ]
    }
   ],
   "source": [
    "for i in book.columns:\n",
    "    print(i)\n",
    "    print(book[i].value_counts())\n",
    "    print()"
   ]
  },
  {
   "cell_type": "markdown",
   "id": "d44e421f",
   "metadata": {},
   "source": [
    "# Apriori Algorithm "
   ]
  },
  {
   "cell_type": "markdown",
   "id": "ca9efdbd",
   "metadata": {},
   "source": [
    "### Association Rules with 10% Support and 75% confidence"
   ]
  },
  {
   "cell_type": "code",
   "execution_count": 8,
   "id": "fad23ff0",
   "metadata": {},
   "outputs": [],
   "source": [
    "frequent_item = apriori(book,min_support=0.1,use_colnames=True)"
   ]
  },
  {
   "cell_type": "code",
   "execution_count": 9,
   "id": "5158d73a",
   "metadata": {},
   "outputs": [
    {
     "data": {
      "text/html": [
       "<div>\n",
       "<style scoped>\n",
       "    .dataframe tbody tr th:only-of-type {\n",
       "        vertical-align: middle;\n",
       "    }\n",
       "\n",
       "    .dataframe tbody tr th {\n",
       "        vertical-align: top;\n",
       "    }\n",
       "\n",
       "    .dataframe thead th {\n",
       "        text-align: right;\n",
       "    }\n",
       "</style>\n",
       "<table border=\"1\" class=\"dataframe\">\n",
       "  <thead>\n",
       "    <tr style=\"text-align: right;\">\n",
       "      <th></th>\n",
       "      <th>antecedents</th>\n",
       "      <th>consequents</th>\n",
       "      <th>antecedent support</th>\n",
       "      <th>consequent support</th>\n",
       "      <th>support</th>\n",
       "      <th>confidence</th>\n",
       "      <th>lift</th>\n",
       "      <th>leverage</th>\n",
       "      <th>conviction</th>\n",
       "    </tr>\n",
       "  </thead>\n",
       "  <tbody>\n",
       "    <tr>\n",
       "      <th>0</th>\n",
       "      <td>(ItalCook)</td>\n",
       "      <td>(CookBks)</td>\n",
       "      <td>0.1135</td>\n",
       "      <td>0.431</td>\n",
       "      <td>0.1135</td>\n",
       "      <td>1.000000</td>\n",
       "      <td>2.320186</td>\n",
       "      <td>0.064582</td>\n",
       "      <td>inf</td>\n",
       "    </tr>\n",
       "    <tr>\n",
       "      <th>1</th>\n",
       "      <td>(CookBks, YouthBks)</td>\n",
       "      <td>(ChildBks)</td>\n",
       "      <td>0.1620</td>\n",
       "      <td>0.423</td>\n",
       "      <td>0.1290</td>\n",
       "      <td>0.796296</td>\n",
       "      <td>1.882497</td>\n",
       "      <td>0.060474</td>\n",
       "      <td>2.832545</td>\n",
       "    </tr>\n",
       "    <tr>\n",
       "      <th>2</th>\n",
       "      <td>(ChildBks, YouthBks)</td>\n",
       "      <td>(CookBks)</td>\n",
       "      <td>0.1650</td>\n",
       "      <td>0.431</td>\n",
       "      <td>0.1290</td>\n",
       "      <td>0.781818</td>\n",
       "      <td>1.813963</td>\n",
       "      <td>0.057885</td>\n",
       "      <td>2.607917</td>\n",
       "    </tr>\n",
       "    <tr>\n",
       "      <th>3</th>\n",
       "      <td>(CookBks, DoItYBks)</td>\n",
       "      <td>(ChildBks)</td>\n",
       "      <td>0.1875</td>\n",
       "      <td>0.423</td>\n",
       "      <td>0.1460</td>\n",
       "      <td>0.778667</td>\n",
       "      <td>1.840820</td>\n",
       "      <td>0.066687</td>\n",
       "      <td>2.606928</td>\n",
       "    </tr>\n",
       "    <tr>\n",
       "      <th>4</th>\n",
       "      <td>(ChildBks, DoItYBks)</td>\n",
       "      <td>(CookBks)</td>\n",
       "      <td>0.1840</td>\n",
       "      <td>0.431</td>\n",
       "      <td>0.1460</td>\n",
       "      <td>0.793478</td>\n",
       "      <td>1.841017</td>\n",
       "      <td>0.066696</td>\n",
       "      <td>2.755158</td>\n",
       "    </tr>\n",
       "    <tr>\n",
       "      <th>5</th>\n",
       "      <td>(CookBks, RefBks)</td>\n",
       "      <td>(ChildBks)</td>\n",
       "      <td>0.1525</td>\n",
       "      <td>0.423</td>\n",
       "      <td>0.1225</td>\n",
       "      <td>0.803279</td>\n",
       "      <td>1.899004</td>\n",
       "      <td>0.057993</td>\n",
       "      <td>2.933083</td>\n",
       "    </tr>\n",
       "    <tr>\n",
       "      <th>6</th>\n",
       "      <td>(ChildBks, RefBks)</td>\n",
       "      <td>(CookBks)</td>\n",
       "      <td>0.1515</td>\n",
       "      <td>0.431</td>\n",
       "      <td>0.1225</td>\n",
       "      <td>0.808581</td>\n",
       "      <td>1.876058</td>\n",
       "      <td>0.057204</td>\n",
       "      <td>2.972534</td>\n",
       "    </tr>\n",
       "    <tr>\n",
       "      <th>7</th>\n",
       "      <td>(ArtBks, CookBks)</td>\n",
       "      <td>(ChildBks)</td>\n",
       "      <td>0.1670</td>\n",
       "      <td>0.423</td>\n",
       "      <td>0.1265</td>\n",
       "      <td>0.757485</td>\n",
       "      <td>1.790745</td>\n",
       "      <td>0.055859</td>\n",
       "      <td>2.379235</td>\n",
       "    </tr>\n",
       "    <tr>\n",
       "      <th>8</th>\n",
       "      <td>(ArtBks, ChildBks)</td>\n",
       "      <td>(CookBks)</td>\n",
       "      <td>0.1625</td>\n",
       "      <td>0.431</td>\n",
       "      <td>0.1265</td>\n",
       "      <td>0.778462</td>\n",
       "      <td>1.806175</td>\n",
       "      <td>0.056462</td>\n",
       "      <td>2.568403</td>\n",
       "    </tr>\n",
       "    <tr>\n",
       "      <th>9</th>\n",
       "      <td>(CookBks, GeogBks)</td>\n",
       "      <td>(ChildBks)</td>\n",
       "      <td>0.1925</td>\n",
       "      <td>0.423</td>\n",
       "      <td>0.1495</td>\n",
       "      <td>0.776623</td>\n",
       "      <td>1.835989</td>\n",
       "      <td>0.068072</td>\n",
       "      <td>2.583081</td>\n",
       "    </tr>\n",
       "    <tr>\n",
       "      <th>10</th>\n",
       "      <td>(GeogBks, ChildBks)</td>\n",
       "      <td>(CookBks)</td>\n",
       "      <td>0.1950</td>\n",
       "      <td>0.431</td>\n",
       "      <td>0.1495</td>\n",
       "      <td>0.766667</td>\n",
       "      <td>1.778809</td>\n",
       "      <td>0.065455</td>\n",
       "      <td>2.438571</td>\n",
       "    </tr>\n",
       "    <tr>\n",
       "      <th>11</th>\n",
       "      <td>(GeogBks, DoItYBks)</td>\n",
       "      <td>(ChildBks)</td>\n",
       "      <td>0.1325</td>\n",
       "      <td>0.423</td>\n",
       "      <td>0.1045</td>\n",
       "      <td>0.788679</td>\n",
       "      <td>1.864490</td>\n",
       "      <td>0.048452</td>\n",
       "      <td>2.730446</td>\n",
       "    </tr>\n",
       "    <tr>\n",
       "      <th>12</th>\n",
       "      <td>(ArtBks, GeogBks)</td>\n",
       "      <td>(ChildBks)</td>\n",
       "      <td>0.1275</td>\n",
       "      <td>0.423</td>\n",
       "      <td>0.1020</td>\n",
       "      <td>0.800000</td>\n",
       "      <td>1.891253</td>\n",
       "      <td>0.048067</td>\n",
       "      <td>2.885000</td>\n",
       "    </tr>\n",
       "    <tr>\n",
       "      <th>13</th>\n",
       "      <td>(ArtBks, DoItYBks)</td>\n",
       "      <td>(CookBks)</td>\n",
       "      <td>0.1235</td>\n",
       "      <td>0.431</td>\n",
       "      <td>0.1015</td>\n",
       "      <td>0.821862</td>\n",
       "      <td>1.906873</td>\n",
       "      <td>0.048272</td>\n",
       "      <td>3.194159</td>\n",
       "    </tr>\n",
       "    <tr>\n",
       "      <th>14</th>\n",
       "      <td>(GeogBks, DoItYBks)</td>\n",
       "      <td>(CookBks)</td>\n",
       "      <td>0.1325</td>\n",
       "      <td>0.431</td>\n",
       "      <td>0.1085</td>\n",
       "      <td>0.818868</td>\n",
       "      <td>1.899926</td>\n",
       "      <td>0.051392</td>\n",
       "      <td>3.141354</td>\n",
       "    </tr>\n",
       "    <tr>\n",
       "      <th>15</th>\n",
       "      <td>(ArtBks, GeogBks)</td>\n",
       "      <td>(CookBks)</td>\n",
       "      <td>0.1275</td>\n",
       "      <td>0.431</td>\n",
       "      <td>0.1035</td>\n",
       "      <td>0.811765</td>\n",
       "      <td>1.883445</td>\n",
       "      <td>0.048547</td>\n",
       "      <td>3.022812</td>\n",
       "    </tr>\n",
       "  </tbody>\n",
       "</table>\n",
       "</div>"
      ],
      "text/plain": [
       "             antecedents consequents  antecedent support  consequent support  \\\n",
       "0             (ItalCook)   (CookBks)              0.1135               0.431   \n",
       "1    (CookBks, YouthBks)  (ChildBks)              0.1620               0.423   \n",
       "2   (ChildBks, YouthBks)   (CookBks)              0.1650               0.431   \n",
       "3    (CookBks, DoItYBks)  (ChildBks)              0.1875               0.423   \n",
       "4   (ChildBks, DoItYBks)   (CookBks)              0.1840               0.431   \n",
       "5      (CookBks, RefBks)  (ChildBks)              0.1525               0.423   \n",
       "6     (ChildBks, RefBks)   (CookBks)              0.1515               0.431   \n",
       "7      (ArtBks, CookBks)  (ChildBks)              0.1670               0.423   \n",
       "8     (ArtBks, ChildBks)   (CookBks)              0.1625               0.431   \n",
       "9     (CookBks, GeogBks)  (ChildBks)              0.1925               0.423   \n",
       "10   (GeogBks, ChildBks)   (CookBks)              0.1950               0.431   \n",
       "11   (GeogBks, DoItYBks)  (ChildBks)              0.1325               0.423   \n",
       "12     (ArtBks, GeogBks)  (ChildBks)              0.1275               0.423   \n",
       "13    (ArtBks, DoItYBks)   (CookBks)              0.1235               0.431   \n",
       "14   (GeogBks, DoItYBks)   (CookBks)              0.1325               0.431   \n",
       "15     (ArtBks, GeogBks)   (CookBks)              0.1275               0.431   \n",
       "\n",
       "    support  confidence      lift  leverage  conviction  \n",
       "0    0.1135    1.000000  2.320186  0.064582         inf  \n",
       "1    0.1290    0.796296  1.882497  0.060474    2.832545  \n",
       "2    0.1290    0.781818  1.813963  0.057885    2.607917  \n",
       "3    0.1460    0.778667  1.840820  0.066687    2.606928  \n",
       "4    0.1460    0.793478  1.841017  0.066696    2.755158  \n",
       "5    0.1225    0.803279  1.899004  0.057993    2.933083  \n",
       "6    0.1225    0.808581  1.876058  0.057204    2.972534  \n",
       "7    0.1265    0.757485  1.790745  0.055859    2.379235  \n",
       "8    0.1265    0.778462  1.806175  0.056462    2.568403  \n",
       "9    0.1495    0.776623  1.835989  0.068072    2.583081  \n",
       "10   0.1495    0.766667  1.778809  0.065455    2.438571  \n",
       "11   0.1045    0.788679  1.864490  0.048452    2.730446  \n",
       "12   0.1020    0.800000  1.891253  0.048067    2.885000  \n",
       "13   0.1015    0.821862  1.906873  0.048272    3.194159  \n",
       "14   0.1085    0.818868  1.899926  0.051392    3.141354  \n",
       "15   0.1035    0.811765  1.883445  0.048547    3.022812  "
      ]
     },
     "execution_count": 9,
     "metadata": {},
     "output_type": "execute_result"
    }
   ],
   "source": [
    "rules_1 = association_rules(frequent_item,metric='confidence',min_threshold=0.75)\n",
    "rules_1"
   ]
  },
  {
   "cell_type": "code",
   "execution_count": 11,
   "id": "897763e9",
   "metadata": {},
   "outputs": [
    {
     "data": {
      "text/plain": [
       "(16, 9)"
      ]
     },
     "execution_count": 11,
     "metadata": {},
     "output_type": "execute_result"
    }
   ],
   "source": [
    "rules_1.shape"
   ]
  },
  {
   "cell_type": "code",
   "execution_count": 12,
   "id": "05acd808",
   "metadata": {},
   "outputs": [
    {
     "data": {
      "text/plain": [
       "Text(0, 0.5, 'confidence')"
      ]
     },
     "execution_count": 12,
     "metadata": {},
     "output_type": "execute_result"
    },
    {
     "data": {
      "image/png": "[encoded data removed]",
      "text/plain": [
       "<Figure size 432x288 with 1 Axes>"
      ]
     },
     "metadata": {},
     "output_type": "display_data"
    }
   ],
   "source": [
    "# visualization of obtained rule\n",
    "\n",
    "plt.scatter(rules_1['support'],rules_1['confidence'],marker='*')\n",
    "plt.xlabel('support')\n",
    "plt.ylabel('confidence')\n"
   ]
  },
  {
   "cell_type": "code",
   "execution_count": null,
   "id": "80e619e6",
   "metadata": {},
   "outputs": [],
   "source": []
  },
  {
   "cell_type": "markdown",
   "id": "6dd91926",
   "metadata": {
    "heading_collapsed": true
   },
   "source": [
    "### Association Rules with 5% Support and 90% confidence"
   ]
  },
  {
   "cell_type": "code",
   "execution_count": 13,
   "id": "304e7a66",
   "metadata": {
    "hidden": true
   },
   "outputs": [],
   "source": [
    "frequent_items = apriori(book,min_support=0.05,use_colnames=True)"
   ]
  },
  {
   "cell_type": "code",
   "execution_count": 14,
   "id": "9afd1f81",
   "metadata": {
    "hidden": true
   },
   "outputs": [
    {
     "data": {
      "text/html": [
       "<div>\n",
       "<style scoped>\n",
       "    .dataframe tbody tr th:only-of-type {\n",
       "        vertical-align: middle;\n",
       "    }\n",
       "\n",
       "    .dataframe tbody tr th {\n",
       "        vertical-align: top;\n",
       "    }\n",
       "\n",
       "    .dataframe thead th {\n",
       "        text-align: right;\n",
       "    }\n",
       "</style>\n",
       "<table border=\"1\" class=\"dataframe\">\n",
       "  <thead>\n",
       "    <tr style=\"text-align: right;\">\n",
       "      <th></th>\n",
       "      <th>antecedents</th>\n",
       "      <th>consequents</th>\n",
       "      <th>antecedent support</th>\n",
       "      <th>consequent support</th>\n",
       "      <th>support</th>\n",
       "      <th>confidence</th>\n",
       "      <th>lift</th>\n",
       "      <th>leverage</th>\n",
       "      <th>conviction</th>\n",
       "    </tr>\n",
       "  </thead>\n",
       "  <tbody>\n",
       "    <tr>\n",
       "      <th>0</th>\n",
       "      <td>(ItalCook)</td>\n",
       "      <td>(CookBks)</td>\n",
       "      <td>0.1135</td>\n",
       "      <td>0.431</td>\n",
       "      <td>0.1135</td>\n",
       "      <td>1.000000</td>\n",
       "      <td>2.320186</td>\n",
       "      <td>0.064582</td>\n",
       "      <td>inf</td>\n",
       "    </tr>\n",
       "    <tr>\n",
       "      <th>1</th>\n",
       "      <td>(ItalCook, ChildBks)</td>\n",
       "      <td>(CookBks)</td>\n",
       "      <td>0.0850</td>\n",
       "      <td>0.431</td>\n",
       "      <td>0.0850</td>\n",
       "      <td>1.000000</td>\n",
       "      <td>2.320186</td>\n",
       "      <td>0.048365</td>\n",
       "      <td>inf</td>\n",
       "    </tr>\n",
       "    <tr>\n",
       "      <th>2</th>\n",
       "      <td>(ItalCook, YouthBks)</td>\n",
       "      <td>(CookBks)</td>\n",
       "      <td>0.0590</td>\n",
       "      <td>0.431</td>\n",
       "      <td>0.0590</td>\n",
       "      <td>1.000000</td>\n",
       "      <td>2.320186</td>\n",
       "      <td>0.033571</td>\n",
       "      <td>inf</td>\n",
       "    </tr>\n",
       "    <tr>\n",
       "      <th>3</th>\n",
       "      <td>(ItalCook, DoItYBks)</td>\n",
       "      <td>(CookBks)</td>\n",
       "      <td>0.0585</td>\n",
       "      <td>0.431</td>\n",
       "      <td>0.0585</td>\n",
       "      <td>1.000000</td>\n",
       "      <td>2.320186</td>\n",
       "      <td>0.033287</td>\n",
       "      <td>inf</td>\n",
       "    </tr>\n",
       "    <tr>\n",
       "      <th>4</th>\n",
       "      <td>(ArtBks, ItalCook)</td>\n",
       "      <td>(CookBks)</td>\n",
       "      <td>0.0565</td>\n",
       "      <td>0.431</td>\n",
       "      <td>0.0565</td>\n",
       "      <td>1.000000</td>\n",
       "      <td>2.320186</td>\n",
       "      <td>0.032148</td>\n",
       "      <td>inf</td>\n",
       "    </tr>\n",
       "    <tr>\n",
       "      <th>5</th>\n",
       "      <td>(GeogBks, ItalCook)</td>\n",
       "      <td>(CookBks)</td>\n",
       "      <td>0.0640</td>\n",
       "      <td>0.431</td>\n",
       "      <td>0.0640</td>\n",
       "      <td>1.000000</td>\n",
       "      <td>2.320186</td>\n",
       "      <td>0.036416</td>\n",
       "      <td>inf</td>\n",
       "    </tr>\n",
       "    <tr>\n",
       "      <th>6</th>\n",
       "      <td>(YouthBks, RefBks, DoItYBks)</td>\n",
       "      <td>(ChildBks)</td>\n",
       "      <td>0.0580</td>\n",
       "      <td>0.423</td>\n",
       "      <td>0.0530</td>\n",
       "      <td>0.913793</td>\n",
       "      <td>2.160267</td>\n",
       "      <td>0.028466</td>\n",
       "      <td>6.693200</td>\n",
       "    </tr>\n",
       "    <tr>\n",
       "      <th>7</th>\n",
       "      <td>(GeogBks, RefBks, YouthBks)</td>\n",
       "      <td>(ChildBks)</td>\n",
       "      <td>0.0570</td>\n",
       "      <td>0.423</td>\n",
       "      <td>0.0515</td>\n",
       "      <td>0.903509</td>\n",
       "      <td>2.135955</td>\n",
       "      <td>0.027389</td>\n",
       "      <td>5.979818</td>\n",
       "    </tr>\n",
       "    <tr>\n",
       "      <th>8</th>\n",
       "      <td>(GeogBks, ItalCook, ChildBks)</td>\n",
       "      <td>(CookBks)</td>\n",
       "      <td>0.0525</td>\n",
       "      <td>0.431</td>\n",
       "      <td>0.0525</td>\n",
       "      <td>1.000000</td>\n",
       "      <td>2.320186</td>\n",
       "      <td>0.029872</td>\n",
       "      <td>inf</td>\n",
       "    </tr>\n",
       "    <tr>\n",
       "      <th>9</th>\n",
       "      <td>(GeogBks, YouthBks, ChildBks, DoItYBks)</td>\n",
       "      <td>(CookBks)</td>\n",
       "      <td>0.0565</td>\n",
       "      <td>0.431</td>\n",
       "      <td>0.0510</td>\n",
       "      <td>0.902655</td>\n",
       "      <td>2.094327</td>\n",
       "      <td>0.026648</td>\n",
       "      <td>5.845182</td>\n",
       "    </tr>\n",
       "  </tbody>\n",
       "</table>\n",
       "</div>"
      ],
      "text/plain": [
       "                               antecedents consequents  antecedent support  \\\n",
       "0                               (ItalCook)   (CookBks)              0.1135   \n",
       "1                     (ItalCook, ChildBks)   (CookBks)              0.0850   \n",
       "2                     (ItalCook, YouthBks)   (CookBks)              0.0590   \n",
       "3                     (ItalCook, DoItYBks)   (CookBks)              0.0585   \n",
       "4                       (ArtBks, ItalCook)   (CookBks)              0.0565   \n",
       "5                      (GeogBks, ItalCook)   (CookBks)              0.0640   \n",
       "6             (YouthBks, RefBks, DoItYBks)  (ChildBks)              0.0580   \n",
       "7              (GeogBks, RefBks, YouthBks)  (ChildBks)              0.0570   \n",
       "8            (GeogBks, ItalCook, ChildBks)   (CookBks)              0.0525   \n",
       "9  (GeogBks, YouthBks, ChildBks, DoItYBks)   (CookBks)              0.0565   \n",
       "\n",
       "   consequent support  support  confidence      lift  leverage  conviction  \n",
       "0               0.431   0.1135    1.000000  2.320186  0.064582         inf  \n",
       "1               0.431   0.0850    1.000000  2.320186  0.048365         inf  \n",
       "2               0.431   0.0590    1.000000  2.320186  0.033571         inf  \n",
       "3               0.431   0.0585    1.000000  2.320186  0.033287         inf  \n",
       "4               0.431   0.0565    1.000000  2.320186  0.032148         inf  \n",
       "5               0.431   0.0640    1.000000  2.320186  0.036416         inf  \n",
       "6               0.423   0.0530    0.913793  2.160267  0.028466    6.693200  \n",
       "7               0.423   0.0515    0.903509  2.135955  0.027389    5.979818  \n",
       "8               0.431   0.0525    1.000000  2.320186  0.029872         inf  \n",
       "9               0.431   0.0510    0.902655  2.094327  0.026648    5.845182  "
      ]
     },
     "execution_count": 14,
     "metadata": {},
     "output_type": "execute_result"
    }
   ],
   "source": [
    "rules_2 = association_rules(frequent_items, metric = 'confidence',min_threshold=0.9 )\n",
    "\n",
    "rules_2"
   ]
  },
  {
   "cell_type": "code",
   "execution_count": 15,
   "id": "0b423566",
   "metadata": {
    "hidden": true
   },
   "outputs": [
    {
     "data": {
      "text/plain": [
       "(10, 9)"
      ]
     },
     "execution_count": 15,
     "metadata": {},
     "output_type": "execute_result"
    }
   ],
   "source": [
    "rules_2.shape"
   ]
  },
  {
   "cell_type": "code",
   "execution_count": 16,
   "id": "60cbee38",
   "metadata": {
    "hidden": true
   },
   "outputs": [
    {
     "data": {
      "text/plain": [
       "Text(0, 0.5, 'confidence')"
      ]
     },
     "execution_count": 16,
     "metadata": {},
     "output_type": "execute_result"
    },
    {
     "data": {
      "image/png": "[encoded data removed]",
      "text/plain": [
       "<Figure size 432x288 with 1 Axes>"
      ]
     },
     "metadata": {},
     "output_type": "display_data"
    }
   ],
   "source": [
    "# visualization of obtained rule\n",
    "\n",
    "plt.scatter(rules_2['support'],rules_2['confidence'],marker='*')\n",
    "plt.xlabel('support')\n",
    "plt.ylabel('confidence')\n"
   ]
  },
  {
   "cell_type": "code",
   "execution_count": null,
   "id": "4b62dccf",
   "metadata": {
    "hidden": true
   },
   "outputs": [],
   "source": []
  },
  {
   "cell_type": "markdown",
   "id": "b8127e5c",
   "metadata": {
    "heading_collapsed": true
   },
   "source": [
    "### Association Rules with 10% Support and 95% confidence"
   ]
  },
  {
   "cell_type": "code",
   "execution_count": 17,
   "id": "fb2c3eb5",
   "metadata": {
    "hidden": true
   },
   "outputs": [],
   "source": [
    "frequent_items1 = apriori(book,min_support=0.1,use_colnames=True)"
   ]
  },
  {
   "cell_type": "code",
   "execution_count": 18,
   "id": "452073f3",
   "metadata": {
    "hidden": true
   },
   "outputs": [
    {
     "data": {
      "text/html": [
       "<div>\n",
       "<style scoped>\n",
       "    .dataframe tbody tr th:only-of-type {\n",
       "        vertical-align: middle;\n",
       "    }\n",
       "\n",
       "    .dataframe tbody tr th {\n",
       "        vertical-align: top;\n",
       "    }\n",
       "\n",
       "    .dataframe thead th {\n",
       "        text-align: right;\n",
       "    }\n",
       "</style>\n",
       "<table border=\"1\" class=\"dataframe\">\n",
       "  <thead>\n",
       "    <tr style=\"text-align: right;\">\n",
       "      <th></th>\n",
       "      <th>antecedents</th>\n",
       "      <th>consequents</th>\n",
       "      <th>antecedent support</th>\n",
       "      <th>consequent support</th>\n",
       "      <th>support</th>\n",
       "      <th>confidence</th>\n",
       "      <th>lift</th>\n",
       "      <th>leverage</th>\n",
       "      <th>conviction</th>\n",
       "    </tr>\n",
       "  </thead>\n",
       "  <tbody>\n",
       "    <tr>\n",
       "      <th>0</th>\n",
       "      <td>(ItalCook)</td>\n",
       "      <td>(CookBks)</td>\n",
       "      <td>0.1135</td>\n",
       "      <td>0.431</td>\n",
       "      <td>0.1135</td>\n",
       "      <td>1.0</td>\n",
       "      <td>2.320186</td>\n",
       "      <td>0.064582</td>\n",
       "      <td>inf</td>\n",
       "    </tr>\n",
       "  </tbody>\n",
       "</table>\n",
       "</div>"
      ],
      "text/plain": [
       "  antecedents consequents  antecedent support  consequent support  support  \\\n",
       "0  (ItalCook)   (CookBks)              0.1135               0.431   0.1135   \n",
       "\n",
       "   confidence      lift  leverage  conviction  \n",
       "0         1.0  2.320186  0.064582         inf  "
      ]
     },
     "execution_count": 18,
     "metadata": {},
     "output_type": "execute_result"
    }
   ],
   "source": [
    "rules_3 = association_rules(frequent_items1, metric = 'confidence',min_threshold=0.95 )\n",
    "\n",
    "rules_3"
   ]
  },
  {
   "cell_type": "code",
   "execution_count": 19,
   "id": "71a5cf3e",
   "metadata": {
    "hidden": true
   },
   "outputs": [
    {
     "data": {
      "text/plain": [
       "(1, 9)"
      ]
     },
     "execution_count": 19,
     "metadata": {},
     "output_type": "execute_result"
    }
   ],
   "source": [
    "rules_3.shape"
   ]
  },
  {
   "cell_type": "code",
   "execution_count": 20,
   "id": "60cbee38",
   "metadata": {
    "hidden": true
   },
   "outputs": [
    {
     "data": {
      "text/plain": [
       "Text(0, 0.5, 'confidence')"
      ]
     },
     "execution_count": 20,
     "metadata": {},
     "output_type": "execute_result"
    },
    {
     "data": {
      "image/png": "[encoded data removed]",
      "text/plain": [
       "<Figure size 432x288 with 1 Axes>"
      ]
     },
     "metadata": {},
     "output_type": "display_data"
    }
   ],
   "source": [
    "# visualization of obtained rule\n",
    "\n",
    "plt.scatter(rules_3['support'],rules_3['confidence'],marker='*')\n",
    "plt.xlabel('support')\n",
    "plt.ylabel('confidence')\n"
   ]
  },
  {
   "cell_type": "code",
   "execution_count": null,
   "id": "f74ee5b3",
   "metadata": {
    "hidden": true
   },
   "outputs": [],
   "source": []
  },
  {
   "cell_type": "code",
   "execution_count": null,
   "id": "25aa8584",
   "metadata": {
    "hidden": true
   },
   "outputs": [],
   "source": []
  },
  {
   "cell_type": "code",
   "execution_count": null,
   "id": "1ef803dd",
   "metadata": {
    "hidden": true
   },
   "outputs": [],
   "source": []
  },
  {
   "cell_type": "code",
   "execution_count": null,
   "id": "ee832fa2",
   "metadata": {
    "hidden": true
   },
   "outputs": [],
   "source": []
  },
  {
   "cell_type": "code",
   "execution_count": null,
   "id": "5263f874",
   "metadata": {
    "hidden": true
   },
   "outputs": [],
   "source": []
  },
  {
   "cell_type": "code",
   "execution_count": null,
   "id": "7e8f161a",
   "metadata": {
    "hidden": true
   },
   "outputs": [],
   "source": []
  },
  {
   "cell_type": "code",
   "execution_count": null,
   "id": "6047b112",
   "metadata": {
    "hidden": true
   },
   "outputs": [],
   "source": []
  },
  {
   "cell_type": "code",
   "execution_count": null,
   "id": "79c9cc31",
   "metadata": {
    "hidden": true
   },
   "outputs": [],
   "source": []
  },
  {
   "cell_type": "code",
   "execution_count": null,
   "id": "54ca027d",
   "metadata": {
    "hidden": true
   },
   "outputs": [],
   "source": []
  },
  {
   "cell_type": "code",
   "execution_count": null,
   "id": "87b48a00",
   "metadata": {
    "hidden": true
   },
   "outputs": [],
   "source": []
  },
  {
   "cell_type": "code",
   "execution_count": null,
   "id": "f64673b5",
   "metadata": {
    "hidden": true
   },
   "outputs": [],
   "source": []
  },
  {
   "cell_type": "code",
   "execution_count": null,
   "id": "975a42cf",
   "metadata": {
    "hidden": true
   },
   "outputs": [],
   "source": []
  },
  {
   "cell_type": "code",
   "execution_count": null,
   "id": "779181a0",
   "metadata": {
    "hidden": true
   },
   "outputs": [],
   "source": []
  },
  {
   "cell_type": "code",
   "execution_count": null,
   "id": "cc5776e9",
   "metadata": {
    "hidden": true
   },
   "outputs": [],
   "source": []
  },
  {
   "cell_type": "code",
   "execution_count": null,
   "id": "cb4d0384",
   "metadata": {
    "hidden": true
   },
   "outputs": [],
   "source": []
  },
  {
   "cell_type": "code",
   "execution_count": null,
   "id": "7732f4a8",
   "metadata": {
    "hidden": true
   },
   "outputs": [],
   "source": []
  },
  {
   "cell_type": "code",
   "execution_count": null,
   "id": "197b05c5",
   "metadata": {
    "hidden": true
   },
   "outputs": [],
   "source": []
  },
  {
   "cell_type": "code",
   "execution_count": null,
   "id": "90c45048",
   "metadata": {
    "hidden": true
   },
   "outputs": [],
   "source": []
  },
  {
   "cell_type": "code",
   "execution_count": null,
   "id": "dd492cf1",
   "metadata": {
    "hidden": true
   },
   "outputs": [],
   "source": []
  },
  {
   "cell_type": "code",
   "execution_count": null,
   "id": "ec56a7ef",
   "metadata": {
    "hidden": true
   },
   "outputs": [],
   "source": []
  },
  {
   "cell_type": "code",
   "execution_count": null,
   "id": "f7ad75f7",
   "metadata": {
    "hidden": true
   },
   "outputs": [],
   "source": []
  },
  {
   "cell_type": "code",
   "execution_count": null,
   "id": "22fde87a",
   "metadata": {
    "hidden": true
   },
   "outputs": [],
   "source": []
  },
  {
   "cell_type": "code",
   "execution_count": null,
   "id": "b57e9ca4",
   "metadata": {
    "hidden": true
   },
   "outputs": [],
   "source": []
  },
  {
   "cell_type": "code",
   "execution_count": null,
   "id": "2b2070ea",
   "metadata": {
    "hidden": true
   },
   "outputs": [],
   "source": []
  },
  {
   "cell_type": "code",
   "execution_count": null,
   "id": "5b88a5b0",
   "metadata": {
    "hidden": true
   },
   "outputs": [],
   "source": []
  }
 ],
 "metadata": {
  "kernelspec": {
   "display_name": "Python 3 (ipykernel)",
   "language": "python",
   "name": "python3"
  },
  "language_info": {
   "codemirror_mode": {
    "name": "ipython",
    "version": 3
   },
   "file_extension": ".py",
   "mimetype": "text/x-python",
   "name": "python",
   "nbconvert_exporter": "python",
   "pygments_lexer": "ipython3",
   "version": "3.9.7"
  },
  "varInspector": {
   "cols": {
    "lenName": 16,
    "lenType": 16,
    "lenVar": 40
   },
   "kernels_config": {
    "python": {
     "delete_cmd_postfix": "",
     "delete_cmd_prefix": "del ",
     "library": "var_list.py",
     "varRefreshCmd": "print(var_dic_list())"
    },
    "r": {
     "delete_cmd_postfix": ") ",
     "delete_cmd_prefix": "rm(",
     "library": "var_list.r",
     "varRefreshCmd": "cat(var_dic_list()) "
    }
   },
   "types_to_exclude": [
    "module",
    "function",
    "builtin_function_or_method",
    "instance",
    "_Feature"
   ],
   "window_display": false
  }
 },
 "nbformat": 4,
 "nbformat_minor": 5
}
